{
 "cells": [
  {
   "cell_type": "markdown",
   "id": "e8d3187d-1e6d-4929-b224-96342301454e",
   "metadata": {},
   "source": [
    "Creare:\n",
    "1. Dato un file di log vogliamo il numero di interazioni totale (il numero di righe di quel dataframe)\n",
    "2. la distribuzione del numero di interazioni per utente (group_by sullo userid, count, plot istogramma)\n",
    "3. numero di attività incluse nel corso\n",
    "4. barplot (per ogni attività → x, quante interazioni sono relative a quell'attività (group_by attività→ context))\n",
    "5. barplot dove, per ogni tipo di evento, quante interazioni sono relative a quell'evento (event)\n",
    "6. dato uno studente creare un plot che mostra il numero di interazioni (x→ tempo (giorni), y→ numero di interazioni)"
   ]
  },
  {
   "cell_type": "markdown",
   "id": "381a64c7-5245-44eb-9532-bf8791c46d60",
   "metadata": {},
   "source": [
    "# Dato un file di log vogliamo il numero di interazioni totale (il numero di righe di quel dataframe)"
   ]
  },
  {
   "cell_type": "code",
   "execution_count": 2,
   "id": "7572e7f9-f450-4c08-8cfe-2fa11bd583cc",
   "metadata": {},
   "outputs": [],
   "source": [
    "import matplotlib.pyplot as plt\n",
    "import datetime\n",
    "from datetime import date\n",
    "from tqdm import tqdm\n",
    "import pandas as pd\n",
    "import numpy as np\n",
    "import glob\n",
    "import os\n",
    "\n",
    "path = '/Users/robertagalici/Desktop/EdnetReal/data/Dati_Moodle/Nuovi/'"
   ]
  },
  {
   "cell_type": "code",
   "execution_count": 5,
   "id": "e144339e-7913-49c7-a241-5a01a9806df1",
   "metadata": {},
   "outputs": [],
   "source": [
    "# calcoliamo il numero di utenti e il numero di interazioni per corso\n",
    "header = ['timestamp', 'user_id', 'user_involved', 'context', 'component', 'event', 'description', 'origin', 'ip']\n",
    "\n",
    "course_name = []\n",
    "no_interactions = []\n",
    "no_user = []\n",
    "\n",
    "for fname in os.listdir(path):\n",
    "    if not fname.endswith(\".csv\"):\n",
    "        continue\n",
    "    df = pd.read_csv(os.path.join(path, fname), sep=',', encoding='utf-8')\n",
    "    df.columns = header\n",
    "    df1 = df[df[\"user_id\"].str.contains(\"Moodle Analitycs\")==False]\n",
    "    df2 = df1[df1[\"user_id\"].str.contains(\"-\")==False]\n",
    "    \n",
    "    students_names = df1[\"user_id\"]\n",
    "    \n",
    "    course_name.append(fname.split('_')[1])\n",
    "    no_interactions.append(len(df2.index))\n",
    "    no_user.append(len(df2['user_id'].unique()))"
   ]
  },
  {
   "cell_type": "code",
   "execution_count": 6,
   "id": "e16dee53-5c13-4fc2-aa2e-65cfb1de08ee",
   "metadata": {},
   "outputs": [
    {
     "data": {
      "image/png": "[encoded data removed]",
      "text/plain": [
       "<Figure size 432x288 with 1 Axes>"
      ]
     },
     "metadata": {
      "needs_background": "light"
     },
     "output_type": "display_data"
    }
   ],
   "source": [
    "plt.hist(no_interactions, bins=35)\n",
    "plt.xlim(0, 140000)\n",
    "plt.title(\"Number of students interactions\")\n",
    "plt.xlabel(\"Number of interactions\")\n",
    "plt.ylabel(\"Number of courses\")\n",
    "plt.show()"
   ]
  },
  {
   "cell_type": "code",
   "execution_count": 7,
   "id": "0da7ffbb-b953-4e25-8ce0-828e063ad130",
   "metadata": {},
   "outputs": [
    {
     "data": {
      "image/png": "[encoded data removed]",
      "text/plain": [
       "<Figure size 432x288 with 1 Axes>"
      ]
     },
     "metadata": {
      "needs_background": "light"
     },
     "output_type": "display_data"
    }
   ],
   "source": [
    "plt.hist(no_user, bins=35)\n",
    "plt.title(\"Number of students\")\n",
    "plt.xlabel(\"Number of students\")\n",
    "plt.ylabel(\"Number of courses\")\n",
    "plt.show()"
   ]
  },
  {
   "cell_type": "markdown",
   "id": "00cea765-73c9-4e6f-acbc-4552c710e4bf",
   "metadata": {},
   "source": [
    "# La distribuzione del numero di interazioni per utente (group_by sullo userid, count, plot istogramma)"
   ]
  },
  {
   "cell_type": "code",
   "execution_count": null,
   "id": "255734a2-c885-426c-a7ff-5a3ad8e75b30",
   "metadata": {},
   "outputs": [],
   "source": []
  }
 ],
 "metadata": {
  "kernelspec": {
   "display_name": "Python 3",
   "language": "python",
   "name": "python3"
  },
  "language_info": {
   "codemirror_mode": {
    "name": "ipython",
    "version": 3
   },
   "file_extension": ".py",
   "mimetype": "text/x-python",
   "name": "python",
   "nbconvert_exporter": "python",
   "pygments_lexer": "ipython3",
   "version": "3.7.6"
  }
 },
 "nbformat": 4,
 "nbformat_minor": 5
}
