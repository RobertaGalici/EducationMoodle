{
 "cells": [
  {
   "cell_type": "markdown",
   "id": "835679d3-fb34-4027-974a-28a4cb03d46f",
   "metadata": {},
   "source": [
    "Analizziamo i vari dati, per trovare le settimane:\n",
    "/Users/robertagalici/Desktop/EdnetReal/data/Dati_Moodle/Nuovi/logs_EGA - Programmazione e Controllo_20210610-1603.csv\n",
    "In questo csv, abbiamo gli utenti e le loro interazioni. \n",
    "Es. \n",
    "utente: firstaname_17566 lastname_17566 il 4 febbraio 2021 dalle 13 fino alle 14.44 interagisce con una serie di lezioni. Lo stesso utente, utilizza la piattaforma anche il 19 gennaio 2021, il 1 gennaio, il 7 maggio 2020. Qua non si parla di settimane di lezione, sono giornate in cui l'utente interagisce con la piattaforma\n",
    "\n",
    "\n",
    "In quante settimane diverse ha interagito un utente -> Dati_Moodle/Nuovi/\n",
    "Prendiamo un corso, in un altro notebook, vediamo in quante settimane diverse troviamo un'interazione dell'utente\n",
    "ho il timestamp, passare da quello alla week -> da data a week of the year \n",
    "Aggiungi una colonna al dataframe che rappresenta la week\n",
    "usare drop_duplicates con subset userid e settimana, keep=first\n",
    "group by usando come subset userid\n",
    "Poi fare la somma\n",
    "Se fai max -> ultima settimana in cui ha interagito l'utente\n",
    "min -> indice prima settimana in cui ha interagito\n",
    "Per ogni utente, vogliamo userid, indice prima sett, indice ultima sett e conteggio di quante settimane (totale)"
   ]
  },
  {
   "cell_type": "code",
   "execution_count": 12,
   "id": "9536cce5-e4cf-41aa-ab57-1e9a344fb80c",
   "metadata": {},
   "outputs": [],
   "source": [
    "import matplotlib.pyplot as plt\n",
    "import datetime\n",
    "from datetime import date\n",
    "from tqdm import tqdm\n",
    "import pandas as pd\n",
    "import numpy as np\n",
    "import glob\n",
    "import os\n",
    "\n",
    "path = '/Users/robertagalici/Desktop/EdnetReal/data/Dati_Moodle/Nuovi/'"
   ]
  },
  {
   "cell_type": "code",
   "execution_count": 80,
   "id": "a9d1d660-04ec-4749-a101-94d654e0867c",
   "metadata": {},
   "outputs": [
    {
     "data": {
      "image/png": "[encoded data removed]",
      "text/plain": [
       "<Figure size 432x288 with 1 Axes>"
      ]
     },
     "metadata": {
      "needs_background": "light"
     },
     "output_type": "display_data"
    }
   ],
   "source": [
    "header = ['timestamp', 'user_id', 'user_involved', 'context', 'component', 'event', 'description', 'origin', 'ip']\n",
    "\n",
    "\n",
    "for fname in os.listdir(path):\n",
    "    if not fname.endswith(\".csv\"):\n",
    "        continue\n",
    "    df = pd.read_csv(os.path.join(path, fname), sep=',', encoding='utf-8')\n",
    "    df.columns = header\n",
    "    \n",
    "    # controllo da fare per ogni riga\n",
    "    \n",
    "    # trasformare il timestamp in week of the year: es. 12/01/2021 -> 2 -> seconda settimana dell'anno\n",
    "    date_time = pd.to_datetime(df[\"timestamp\"])\n",
    "\n",
    "    # aggiungo colonna al dataframe\n",
    "    df['week_of_year'] = date_time.dt.isocalendar().week\n",
    "\n",
    "    df = df.drop_duplicates(subset =['user_id', 'week_of_year'], keep = 'first')\n",
    "    \n",
    "    #print(df.groupby(by=[\"user_id\"]).size())\n",
    "    # per ogni studente calcolare il numero di settimane differenti in cui ha almeno un'interazione e poi plot\n",
    "    # istogramma\n",
    "    # studente, numero settimane differenti -> per un corso\n",
    "    #  groupby del dataframe di df per utente, \n",
    "    # plot degli studenti che hanno completato almeno il 50% delle attività del corso di statistica\n",
    "    \n",
    "    # modificare df\n",
    "    df_mod = df.groupby(by=[\"user_id\"]).size().values\n",
    "    \n",
    "    \n",
    "    plt.hist(df_mod, bins=10)\n",
    "    plt.title(\"Number of students interactions\")\n",
    "    plt.xlabel(\"Number of weeks\")\n",
    "    plt.ylabel(\"Number of students\")\n",
    "    plt.show()\n",
    "    break\n",
    "    \n",
    "    \n",
    "    #df.groupby(by=[\"user_id\"]).sum()\n",
    "    #df.groupby(by=[\"user_id\"]).max()\n",
    "    #df.groupby(by=[\"user_id\"]).min()\n",
    "        \n",
    "        \n",
    "    "
   ]
  },
  {
   "cell_type": "code",
   "execution_count": null,
   "id": "e4c30e78-7957-441c-8359-12af2f614d51",
   "metadata": {},
   "outputs": [],
   "source": []
  }
 ],
 "metadata": {
  "kernelspec": {
   "display_name": "Python 3",
   "language": "python",
   "name": "python3"
  },
  "language_info": {
   "codemirror_mode": {
    "name": "ipython",
    "version": 3
   },
   "file_extension": ".py",
   "mimetype": "text/x-python",
   "name": "python",
   "nbconvert_exporter": "python",
   "pygments_lexer": "ipython3",
   "version": "3.7.6"
  }
 },
 "nbformat": 4,
 "nbformat_minor": 5
}
